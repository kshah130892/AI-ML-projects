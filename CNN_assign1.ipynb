{
 "cells": [
  {
   "cell_type": "code",
   "execution_count": 5,
   "id": "63ff8bf5-808f-46e8-9d7c-1a5ac5895fb3",
   "metadata": {},
   "outputs": [],
   "source": [
    "import torch\n",
    "import torch.nn as nn\n",
    "import torch.optim as optim\n",
    "import torch.utils as utils\n",
    "from torch.utils.data import DataLoader\n",
    "import torchvision.datasets as datasets\n",
    "import torchvision\n",
    "import torch.nn.functional as F\n",
    "import torchvision.transforms as transforms\n",
    "import matplotlib.pyplot as plt\n",
    "from tqdm import tqdm\n",
    "import numpy as np"
   ]
  },
  {
   "cell_type": "code",
   "execution_count": 15,
   "id": "397cd583-7f1a-432a-b324-cb2a06bfef96",
   "metadata": {},
   "outputs": [],
   "source": [
    "#Hyper-parameters\n",
    "num_epoch=5\n",
    "batch_size=64\n",
    "learning_rate=0.001\n",
    "num_classes=10\n",
    "input_size=784"
   ]
  },
  {
   "cell_type": "code",
   "execution_count": 17,
   "id": "fe50e242-4dc4-4b28-abdd-0dd136c20429",
   "metadata": {},
   "outputs": [],
   "source": [
    "transform = transforms.Compose([transforms.ToTensor(), transforms.Normalize((0.5,), (0.5,))])\n",
    "#training_data = torchvision.datasets.MNIST(root='./data', train=True, download=True, transform=transform)\n",
    "#testing_data = torchvision.datasets.MNIST(root='./data', train=False, download=True, transform=transform)\n",
    "\n",
    "train_dataset = datasets.MNIST(root=\"dataset/\", download=True, train=True, transform=transforms.ToTensor())\n",
    "train_loader = DataLoader(dataset=train_dataset, batch_size=batch_size, shuffle=True)\n",
    "\n",
    "test_dataset = datasets.MNIST(root=\"dataset/\", download=True, train=False, transform=transforms.ToTensor())\n",
    "test_loader = DataLoader(dataset=test_dataset, batch_size=batch_size, shuffle=True)"
   ]
  },
  {
   "cell_type": "code",
   "execution_count": 19,
   "id": "94c62c69-d158-42d5-b899-a4d85dfa1a26",
   "metadata": {},
   "outputs": [],
   "source": [
    "#Device Configuration\n",
    "device = \"cuda\" if torch.cuda.is_available() else \"cpu\""
   ]
  },
  {
   "cell_type": "code",
   "execution_count": 21,
   "id": "b6bada48-0a7d-4fa5-aea3-ccd8e12dc2f8",
   "metadata": {},
   "outputs": [],
   "source": [
    "#Defining CNN class\n",
    "class CNN(nn.Module):\n",
    "    def __init__(self):\n",
    "        super(CNN, self).__init__()\n",
    "        # First convolutional layer\n",
    "        self.conv1 = nn.Conv2d(1,8, kernel_size=3, stride=1, padding=1)\n",
    "        # Max pooling layer\n",
    "        self.pool = nn.MaxPool2d(kernel_size=2, stride=2)\n",
    "        # Second convolutional layer\n",
    "        self.conv2 = nn.Conv2d(8,16, kernel_size=3, stride=1, padding=1)\n",
    "        # Fully connected layer\n",
    "        self.fc1 = nn.Linear(16 * 7 * 7, num_classes)\n",
    "\n",
    "    def forward(self, x):\n",
    "        x = F.relu(self.conv1(x))  # Apply first convolution and ReLU activation\n",
    "        x = self.pool(x)           # Apply max pooling\n",
    "        x = F.relu(self.conv2(x))  # Apply second convolution and ReLU activation\n",
    "        x = self.pool(x)           # Apply max pooling\n",
    "        x = x.reshape(x.shape[0], -1)  # Flatten the tensor\n",
    "        x = self.fc1(x)            # Apply fully connected layer\n",
    "        return x"
   ]
  },
  {
   "cell_type": "code",
   "execution_count": 23,
   "id": "161cf9fa-2993-49a7-a1a9-b14b545a3f08",
   "metadata": {},
   "outputs": [],
   "source": [
    "#Model Defination\n",
    "model = CNN().to(device)"
   ]
  },
  {
   "cell_type": "code",
   "execution_count": 25,
   "id": "27f36a90-8d2a-4acb-80b6-9271e0d4f6d5",
   "metadata": {},
   "outputs": [],
   "source": [
    "#Defining loss and optimizer function\n",
    "criterion = nn.CrossEntropyLoss()\n",
    "optimizer = optim.Adam(model.parameters(), lr=learning_rate)"
   ]
  },
  {
   "cell_type": "code",
   "execution_count": 27,
   "id": "dd195b2a-722a-46b4-a717-2ab0295ecde6",
   "metadata": {},
   "outputs": [
    {
     "name": "stdout",
     "output_type": "stream",
     "text": [
      "Model training on training data\n",
      "Epoch [1/5]\n"
     ]
    },
    {
     "name": "stderr",
     "output_type": "stream",
     "text": [
      "100%|██████████| 938/938 [01:25<00:00, 10.99it/s]\n"
     ]
    },
    {
     "name": "stdout",
     "output_type": "stream",
     "text": [
      "Mean Loss=[0.3262177273504007]\n",
      "Accuracy=[array(1703.1562, dtype=float32)]\n",
      "Epoch [2/5]\n"
     ]
    },
    {
     "name": "stderr",
     "output_type": "stream",
     "text": [
      "100%|██████████| 938/938 [01:14<00:00, 12.64it/s]\n"
     ]
    },
    {
     "name": "stdout",
     "output_type": "stream",
     "text": [
      "Mean Loss=[0.3262177273504007, 0.21289200810387907]\n",
      "Accuracy=[array(1703.1562, dtype=float32), array(3521.1562, dtype=float32)]\n",
      "Epoch [3/5]\n"
     ]
    },
    {
     "name": "stderr",
     "output_type": "stream",
     "text": [
      "100%|██████████| 938/938 [01:08<00:00, 13.79it/s]\n"
     ]
    },
    {
     "name": "stdout",
     "output_type": "stream",
     "text": [
      "Mean Loss=[0.3262177273504007, 0.21289200810387907, 0.16666705817520003]\n",
      "Accuracy=[array(1703.1562, dtype=float32), array(3521.1562, dtype=float32), array(5353.9062, dtype=float32)]\n",
      "Epoch [4/5]\n"
     ]
    },
    {
     "name": "stderr",
     "output_type": "stream",
     "text": [
      "100%|██████████| 938/938 [00:40<00:00, 23.17it/s]\n"
     ]
    },
    {
     "name": "stdout",
     "output_type": "stream",
     "text": [
      "Mean Loss=[0.3262177273504007, 0.21289200810387907, 0.16666705817520003, 0.1400097592290479]\n",
      "Accuracy=[array(1703.1562, dtype=float32), array(3521.1562, dtype=float32), array(5353.9062, dtype=float32), array(7194.75, dtype=float32)]\n",
      "Epoch [5/5]\n"
     ]
    },
    {
     "name": "stderr",
     "output_type": "stream",
     "text": [
      "100%|██████████| 938/938 [00:30<00:00, 31.18it/s]\n"
     ]
    },
    {
     "name": "stdout",
     "output_type": "stream",
     "text": [
      "Mean Loss=[0.3262177273504007, 0.21289200810387907, 0.16666705817520003, 0.1400097592290479, 0.1221560765598426]\n",
      "Accuracy=[array(1703.1562, dtype=float32), array(3521.1562, dtype=float32), array(5353.9062, dtype=float32), array(7194.75, dtype=float32), array(9041.156, dtype=float32)]\n",
      "Model training on test data\n",
      "Epoch [1/5]\n"
     ]
    },
    {
     "name": "stderr",
     "output_type": "stream",
     "text": [
      "100%|██████████| 157/157 [00:06<00:00, 24.06it/s]\n"
     ]
    },
    {
     "name": "stdout",
     "output_type": "stream",
     "text": [
      "Mean Loss=[0.0424859004238306]\n",
      "Accuracy=[array(615.875, dtype=float32)]\n",
      "Epoch [2/5]\n"
     ]
    },
    {
     "name": "stderr",
     "output_type": "stream",
     "text": [
      "100%|██████████| 157/157 [00:05<00:00, 27.92it/s]\n"
     ]
    },
    {
     "name": "stdout",
     "output_type": "stream",
     "text": [
      "Mean Loss=[0.0424859004238306, 0.036852723304338]\n",
      "Accuracy=[array(615.875, dtype=float32), array(1234.25, dtype=float32)]\n",
      "Epoch [3/5]\n"
     ]
    },
    {
     "name": "stderr",
     "output_type": "stream",
     "text": [
      "100%|██████████| 157/157 [00:04<00:00, 37.06it/s]\n"
     ]
    },
    {
     "name": "stdout",
     "output_type": "stream",
     "text": [
      "Mean Loss=[0.0424859004238306, 0.036852723304338, 0.0329720021348848]\n",
      "Accuracy=[array(615.875, dtype=float32), array(1234.25, dtype=float32), array(1854.375, dtype=float32)]\n",
      "Epoch [4/5]\n"
     ]
    },
    {
     "name": "stderr",
     "output_type": "stream",
     "text": [
      "100%|██████████| 157/157 [00:05<00:00, 29.14it/s]\n"
     ]
    },
    {
     "name": "stdout",
     "output_type": "stream",
     "text": [
      "Mean Loss=[0.0424859004238306, 0.036852723304338, 0.0329720021348848, 0.030247878987222736]\n",
      "Accuracy=[array(615.875, dtype=float32), array(1234.25, dtype=float32), array(1854.375, dtype=float32), array(2475.25, dtype=float32)]\n",
      "Epoch [5/5]\n"
     ]
    },
    {
     "name": "stderr",
     "output_type": "stream",
     "text": [
      "100%|██████████| 157/157 [00:05<00:00, 29.99it/s]"
     ]
    },
    {
     "name": "stdout",
     "output_type": "stream",
     "text": [
      "Mean Loss=[0.0424859004238306, 0.036852723304338, 0.0329720021348848, 0.030247878987222736, 0.027731324270720576]\n",
      "Accuracy=[array(615.875, dtype=float32), array(1234.25, dtype=float32), array(1854.375, dtype=float32), array(2475.25, dtype=float32), array(3096.625, dtype=float32)]\n"
     ]
    },
    {
     "name": "stderr",
     "output_type": "stream",
     "text": [
      "\n"
     ]
    }
   ],
   "source": [
    "#Training the network\n",
    "\n",
    "def training_model(loader):\n",
    "    step_loss=[]\n",
    "    epoch_loss=[]\n",
    "    accuracy=[]\n",
    "    epoch_accuracy=[]\n",
    "    correct=0\n",
    "    if loader.dataset.train:\n",
    "        print(\"Model training on training data\")\n",
    "    else:\n",
    "        print(\"Model training on test data\")\n",
    "    \n",
    "    for epoch in range(num_epoch):   \n",
    "        print(f\"Epoch [{epoch + 1}/{num_epoch}]\")\n",
    "        for batch_index, (data, targets) in enumerate(tqdm(loader)):\n",
    "            # Move data to device\n",
    "            data = data.to(device)\n",
    "            targets = targets.to(device)\n",
    "\n",
    "            # Forward pass\n",
    "            scores = model(data)\n",
    "            loss = criterion(scores, targets)\n",
    "            _,predict=scores.max(1)\n",
    "            \n",
    "            # Backward pass\n",
    "            optimizer.zero_grad()\n",
    "            loss.backward()\n",
    "\n",
    "            # Optimization step\n",
    "            optimizer.step()\n",
    "\n",
    "            correct += (predict == targets).sum()\n",
    "\n",
    "            #Calculate Loss\n",
    "            step_loss.append(loss.item())\n",
    "\n",
    "            #Calculate Accuracy\n",
    "            accuracy = (correct / (predict.size(0)))\n",
    "            \n",
    "        epoch_loss.append(np.array(step_loss).mean())\n",
    "        epoch_accuracy.append(np.array(accuracy))\n",
    "        print(f\"Mean Loss={epoch_loss}\")\n",
    "        print(f\"Accuracy={epoch_accuracy}\")\n",
    "        \n",
    "    return epoch_loss,epoch_accuracy\n",
    "\n",
    "\n",
    "training_loss=[]\n",
    "validation_loss=[]\n",
    "training_accuracy=[]\n",
    "validation_accuracy=[]\n",
    "\n",
    "training_loss,training_accuracy=training_model(train_loader)\n",
    "validation_loss,validation_accuracy=training_model(test_loader)"
   ]
  },
  {
   "cell_type": "code",
   "execution_count": 30,
   "id": "218da228-db24-4fcb-b99f-3b76f1480e35",
   "metadata": {},
   "outputs": [
    {
     "name": "stdout",
     "output_type": "stream",
     "text": [
      "Checking accuracy on training data\n",
      "Got 59108/60000 with accuracy 98.51%\n",
      "Checking accuracy on test data\n",
      "Got 9971/10000 with accuracy 99.71%\n"
     ]
    }
   ],
   "source": [
    "#Checking accuracy of the model\n",
    "def check_accuracy(loader, model):\n",
    "    if loader.dataset.train:\n",
    "        print(\"Checking accuracy on training data\")\n",
    "    else:\n",
    "        print(\"Checking accuracy on test data\")\n",
    "\n",
    "    num_correct = 0\n",
    "    num_samples = 0\n",
    "    model.eval()  # Set the model to evaluation mode\n",
    "    \n",
    "    with torch.no_grad():  # Disable gradient calculation\n",
    "        for x, y in loader:\n",
    "            x = x.to(device)\n",
    "            y = y.to(device)\n",
    "\n",
    "            # Forward pass: compute the model output\n",
    "            scores = model(x)\n",
    "            _, predictions = scores.max(1)  # Get the index of the max log-probability\n",
    "            num_correct += (predictions == y).sum()  # Count correct predictions\n",
    "            num_samples += predictions.size(0)  # Count total samples\n",
    "\n",
    "        # Calculate accuracy\n",
    "        accuracy = float(num_correct) / float(num_samples) * 100\n",
    "        print(f\"Got {num_correct}/{num_samples} with accuracy {accuracy:.2f}%\")\n",
    "\n",
    "    model.train()  # Set the model back to training mode\n",
    "\n",
    "# Final accuracy check on training and test sets\n",
    "check_accuracy(train_loader, model)\n",
    "check_accuracy(test_loader, model)"
   ]
  },
  {
   "cell_type": "code",
   "execution_count": 183,
   "id": "210ac464-156a-4e95-8eb1-36baf105d7ed",
   "metadata": {},
   "outputs": [
    {
     "data": {
      "text/plain": [
       "<function matplotlib.pyplot.show(close=None, block=None)>"
      ]
     },
     "execution_count": 183,
     "metadata": {},
     "output_type": "execute_result"
    },
    {
     "data": {
      "image/png": "[encoded data removed]",
      "text/plain": [
       "<Figure size 640x480 with 1 Axes>"
      ]
     },
     "metadata": {},
     "output_type": "display_data"
    }
   ],
   "source": [
    "#plotting training and validation Loss function\n",
    "plt.plot(training_loss, label='training_loss')\n",
    "plt.plot(validation_loss,label='validation_loss')\n",
    "plt.xlabel(\"No of Epoch\")\n",
    "plt.ylabel(\"Loss Value\")\n",
    "plt.xticks(range(5),[1,2,3,4,5])\n",
    "plt.legend()\n",
    "plt.show\n"
   ]
  },
  {
   "cell_type": "code",
   "execution_count": 185,
   "id": "d7897759-cdfd-46ed-86ab-af0a7268e33e",
   "metadata": {},
   "outputs": [
    {
     "data": {
      "text/plain": [
       "<function matplotlib.pyplot.show(close=None, block=None)>"
      ]
     },
     "execution_count": 185,
     "metadata": {},
     "output_type": "execute_result"
    },
    {
     "data": {
      "image/png": "[encoded data removed]",
      "text/plain": [
       "<Figure size 640x480 with 1 Axes>"
      ]
     },
     "metadata": {},
     "output_type": "display_data"
    }
   ],
   "source": [
    "#plotting training and validation accuracy\n",
    "plt.plot(training_accuracy, label='training_accuracy')\n",
    "plt.plot(validation_accuracy,label='validation_accuracy')\n",
    "plt.xlabel(\"No of Epoch\")\n",
    "plt.ylabel(\"Accuracy Value\")\n",
    "plt.xticks(range(5),[1,2,3,4,5])\n",
    "plt.legend()\n",
    "plt.show"
   ]
  },
  {
   "cell_type": "code",
   "execution_count": null,
   "id": "104909e7-9e57-4644-9c00-5a79bbc4724e",
   "metadata": {},
   "outputs": [],
   "source": []
  }
 ],
 "metadata": {
  "kernelspec": {
   "display_name": "Python [conda env:base] *",
   "language": "python",
   "name": "conda-base-py"
  },
  "language_info": {
   "codemirror_mode": {
    "name": "ipython",
    "version": 3
   },
   "file_extension": ".py",
   "mimetype": "text/x-python",
   "name": "python",
   "nbconvert_exporter": "python",
   "pygments_lexer": "ipython3",
   "version": "3.12.7"
  }
 },
 "nbformat": 4,
 "nbformat_minor": 5
}
